{
 "cells": [
  {
   "cell_type": "code",
   "execution_count": 64,
   "id": "e6494dd9-f818-4485-a668-bc071819e11a",
   "metadata": {},
   "outputs": [],
   "source": [
    "import pandas as pd\n",
    "import os\n",
    "import numpy as np\n",
    "import requests\n",
    "import json\n",
    "BASE_PATH=r\"c:\\Users\\dv987\\Documents\\GitHub\\Sample\"\n",
    "# Replace BASE_PATH with your own path to this folder."
   ]
  },
  {
   "cell_type": "code",
   "execution_count": 26,
   "id": "aff85aa0-eec7-4537-bf25-7316679c1662",
   "metadata": {},
   "outputs": [
    {
     "data": {
      "text/html": [
       "<div>\n",
       "<style scoped>\n",
       "    .dataframe tbody tr th:only-of-type {\n",
       "        vertical-align: middle;\n",
       "    }\n",
       "\n",
       "    .dataframe tbody tr th {\n",
       "        vertical-align: top;\n",
       "    }\n",
       "\n",
       "    .dataframe thead th {\n",
       "        text-align: right;\n",
       "    }\n",
       "</style>\n",
       "<table border=\"1\" class=\"dataframe\">\n",
       "  <thead>\n",
       "    <tr style=\"text-align: right;\">\n",
       "      <th></th>\n",
       "      <th>Area FIPS Code</th>\n",
       "      <th>Area</th>\n",
       "      <th>Year</th>\n",
       "      <th>Month</th>\n",
       "      <th>Civilian Labor Force</th>\n",
       "      <th>Employment</th>\n",
       "      <th>Unemployment</th>\n",
       "      <th>Unemployment Rate</th>\n",
       "    </tr>\n",
       "  </thead>\n",
       "  <tbody>\n",
       "    <tr>\n",
       "      <th>1</th>\n",
       "      <td>11500.0</td>\n",
       "      <td>Anniston-Oxford-Jacksonville, AL MSA</td>\n",
       "      <td>1990.0</td>\n",
       "      <td>1.0</td>\n",
       "      <td>51709</td>\n",
       "      <td>48084</td>\n",
       "      <td>3625</td>\n",
       "      <td>7</td>\n",
       "    </tr>\n",
       "    <tr>\n",
       "      <th>2</th>\n",
       "      <td>12220.0</td>\n",
       "      <td>Auburn-Opelika, AL MSA</td>\n",
       "      <td>1990.0</td>\n",
       "      <td>1.0</td>\n",
       "      <td>44426</td>\n",
       "      <td>41104</td>\n",
       "      <td>3322</td>\n",
       "      <td>7.5</td>\n",
       "    </tr>\n",
       "    <tr>\n",
       "      <th>3</th>\n",
       "      <td>13820.0</td>\n",
       "      <td>Birmingham-Hoover, AL MSA</td>\n",
       "      <td>1990.0</td>\n",
       "      <td>1.0</td>\n",
       "      <td>460283</td>\n",
       "      <td>435924</td>\n",
       "      <td>24359</td>\n",
       "      <td>5.3</td>\n",
       "    </tr>\n",
       "    <tr>\n",
       "      <th>4</th>\n",
       "      <td>19300.0</td>\n",
       "      <td>Daphne-Fairhope-Foley, AL MSA</td>\n",
       "      <td>1990.0</td>\n",
       "      <td>1.0</td>\n",
       "      <td>46320</td>\n",
       "      <td>43881</td>\n",
       "      <td>2439</td>\n",
       "      <td>5.3</td>\n",
       "    </tr>\n",
       "    <tr>\n",
       "      <th>5</th>\n",
       "      <td>19460.0</td>\n",
       "      <td>Decatur, AL MSA</td>\n",
       "      <td>1990.0</td>\n",
       "      <td>1.0</td>\n",
       "      <td>65563</td>\n",
       "      <td>61215</td>\n",
       "      <td>4348</td>\n",
       "      <td>6.6</td>\n",
       "    </tr>\n",
       "  </tbody>\n",
       "</table>\n",
       "</div>"
      ],
      "text/plain": [
       "   Area FIPS Code                                  Area    Year  Month  \\\n",
       "1         11500.0  Anniston-Oxford-Jacksonville, AL MSA  1990.0    1.0   \n",
       "2         12220.0                Auburn-Opelika, AL MSA  1990.0    1.0   \n",
       "3         13820.0             Birmingham-Hoover, AL MSA  1990.0    1.0   \n",
       "4         19300.0         Daphne-Fairhope-Foley, AL MSA  1990.0    1.0   \n",
       "5         19460.0                       Decatur, AL MSA  1990.0    1.0   \n",
       "\n",
       "  Civilian Labor Force Employment Unemployment Unemployment Rate  \n",
       "1                51709      48084         3625                 7  \n",
       "2                44426      41104         3322               7.5  \n",
       "3               460283     435924        24359               5.3  \n",
       "4                46320      43881         2439               5.3  \n",
       "5                65563      61215         4348               6.6  "
      ]
     },
     "execution_count": 26,
     "metadata": {},
     "output_type": "execute_result"
    }
   ],
   "source": [
    "BLSpath=os.path.join(BASE_PATH, \"ssamatab1.xlsx\")\n",
    "# This data comes from the Federal Bureau of Labor Statistics and details\n",
    "# unemployment statistics by metropolitan statistical area (MSA).\n",
    "BLS=pd.read_excel(BLSpath, skiprows=2)\n",
    "BLS=BLS.drop([0])\n",
    "BLS=BLS.drop(BLS.index[164736:])\n",
    "BLS=BLS.drop([\"LAUS Code\",\"ST FIPS Code\"],axis=1)\n",
    "# Dropping a few rows that don't contain data in the original sheet and a few unnecessary columns.\n",
    "BLS.head()"
   ]
  },
  {
   "cell_type": "code",
   "execution_count": 56,
   "id": "28f82933-6c95-4665-9d84-5f407da4cd5f",
   "metadata": {},
   "outputs": [
    {
     "ename": "KeyError",
     "evalue": "'Results'",
     "output_type": "error",
     "traceback": [
      "\u001b[1;31m---------------------------------------------------------------------------\u001b[0m",
      "\u001b[1;31mKeyError\u001b[0m                                  Traceback (most recent call last)",
      "Cell \u001b[1;32mIn[56], line 12\u001b[0m\n\u001b[0;32m     10\u001b[0m response \u001b[38;5;241m=\u001b[39m requests\u001b[38;5;241m.\u001b[39mget(url)\n\u001b[0;32m     11\u001b[0m json_data  \u001b[38;5;241m=\u001b[39m json\u001b[38;5;241m.\u001b[39mloads(response\u001b[38;5;241m.\u001b[39mtext)\n\u001b[1;32m---> 12\u001b[0m df \u001b[38;5;241m=\u001b[39m pd\u001b[38;5;241m.\u001b[39mjson_normalize(\u001b[43mjson_data\u001b[49m\u001b[43m[\u001b[49m\u001b[38;5;124;43m'\u001b[39;49m\u001b[38;5;124;43mBEAAPI\u001b[39;49m\u001b[38;5;124;43m'\u001b[39;49m\u001b[43m]\u001b[49m\u001b[43m[\u001b[49m\u001b[38;5;124;43m'\u001b[39;49m\u001b[38;5;124;43mResults\u001b[39;49m\u001b[38;5;124;43m'\u001b[39;49m\u001b[43m]\u001b[49m[\u001b[38;5;124m'\u001b[39m\u001b[38;5;124mData\u001b[39m\u001b[38;5;124m'\u001b[39m])\n\u001b[0;32m     13\u001b[0m df\u001b[38;5;241m.\u001b[39mto_csv(\u001b[38;5;124m'\u001b[39m\u001b[38;5;124mnipa_T10101.csv\u001b[39m\u001b[38;5;124m'\u001b[39m, index\u001b[38;5;241m=\u001b[39m\u001b[38;5;28;01mFalse\u001b[39;00m)\n\u001b[0;32m     14\u001b[0m df\n",
      "\u001b[1;31mKeyError\u001b[0m: 'Results'"
     ]
    }
   ],
   "source": [
    "userid = '6633B66D-A212-4FF2-B8AE-46E60688BD22'\n",
    "method = 'GetData'\n",
    "dataset = 'Regional'\n",
    "results = 'json'\n",
    "\n",
    "tablename = 'CAEMP25N'\n",
    "linecode = 'ALL'\n",
    "geofips = 'COUNTY'\n",
    "url = f'https://apps.bea.gov/api/data/?UserID={userid}&method={method}&datasetname={dataset}&TableName={tablename}&LineCode={linecode}&GeoFips={geofips}&ResultFormat={results}'\n",
    "response = requests.get(url)\n",
    "json_data  = json.loads(response.text)\n",
    "df = pd.json_normalize(json_data['BEAAPI']['Results']['Data'])\n",
    "df.to_csv('nipa_T10101.csv', index=False)\n",
    "df\n"
   ]
  },
  {
   "cell_type": "code",
   "execution_count": null,
   "id": "1212e89e-eb0c-4982-b8f0-e23be9718ac3",
   "metadata": {},
   "outputs": [],
   "source": []
  }
 ],
 "metadata": {
  "kernelspec": {
   "display_name": "Python 3 (ipykernel)",
   "language": "python",
   "name": "python3"
  },
  "language_info": {
   "codemirror_mode": {
    "name": "ipython",
    "version": 3
   },
   "file_extension": ".py",
   "mimetype": "text/x-python",
   "name": "python",
   "nbconvert_exporter": "python",
   "pygments_lexer": "ipython3",
   "version": "3.13.0"
  }
 },
 "nbformat": 4,
 "nbformat_minor": 5
}
